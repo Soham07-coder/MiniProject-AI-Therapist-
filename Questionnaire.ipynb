import re
import json
from PyPDF2 import PdfReader

# ✅ Folder Paths for PDFs
FOLDER_PATHS = {
    'Depression': './Depression & Anxiety',
    'Personality & Behaviour': './Personality & Behaviour Analysis',
    'Stress & Coping': './Stress & Coping Mechanisms',
    'Trauma & PTSD': './Trauma & PTSD'
}

# ✅ Scoring Templates
SCORING_TEMPLATE = {
    "Depression": {
        "0": "Not at all",
        "1": "Several days",
        "2": "More than half the days",
        "3": "Nearly every day"
    },
    "Personality & Behaviour": {
        "1": "Strongly disagree",
        "2": "Disagree",
        "3": "Neutral",
        "4": "Agree",
        "5": "Strongly agree"
    },
    "Stress & Coping": {
        "0": "Never",
        "1": "Rarely",
        "2": "Sometimes",
        "3": "Often"
    },
    "Trauma & PTSD": {
        "0": "No",
        "1": "Yes"
    }
}

# ✅ Extract Text from PDF
def extract_text_from_pdf(file_path):
    try:
        reader = PdfReader(file_path)
        text = ""
        for page in reader.pages:
            text += page.extract_text() or ""
        return text
    except Exception as e:
        print(f"❌ Error extracting text from {file_path}: {e}")
        return ""

# ✅ Extract Questions and Options Using Regex
def extract_questions(text):
    patterns = [
        r'(\d+)\.\s*(.*?)\s*\n(?:[A-D]\.\s*.*?)',  # Matches numbered questions with options
        r'(Q\.|Q:|\d+\.)\s*(.*?[\?\.])',           # Matches general questions
        r'([A-Z][^.?!]*[\?\.])'                    # Matches capitalized questions
    ]

    questions = []
    options = []
    for pattern in patterns:
        matches = re.findall(pattern, text)
        for match in matches:
            if isinstance(match, tuple):
                question = match[1].strip()
            else:
                question = match.strip()

            # ✅ Remove trailing spaces and characters
            question = re.sub(r'\s+', ' ', question).strip()

            if question and len(question) > 3:  # ✅ Ignore empty or very short questions
                questions.append(question)

                # ✅ Extract Options if available
                option_pattern = re.findall(r'([A-D])\.\s*(.*?)\n', text)
                extracted_options = {opt[0]: opt[1].strip() for opt in option_pattern}
                if extracted_options:
                    options.append(extracted_options)

    return questions, options

# ✅ Extract Questions from All PDFs in a Folder
def extract_questions_from_folder(folder_path):
    all_questions = []
    for file in os.listdir(folder_path):
        if file.endswith('.pdf'):
            file_path = os.path.join(folder_path, file)
            print(f"📄 Processing {file_path}...")
            text = extract_text_from_pdf(file_path)

            if not text.strip():
                print(f"⚠️ No text found in {file_path}. Skipping...")
                continue

            # ✅ Split into sections
            sections = re.split(r'(Section \d+:|Part \d+:|Category \d+:)', text)
            section_questions = {}

            if len(sections) > 1:
                for i in range(1, len(sections), 2):
                    section_name = sections[i].strip()
                    section_text = sections[i + 1].strip()
                    questions, options = extract_questions(section_text)

                    if questions:
                        section_questions[section_name] = {"questions": questions, "options": options}
            else:
                questions, options = extract_questions(text)
                if questions:
                    section_questions["General"] = {"questions": questions, "options": options}

            if section_questions:
                all_questions.append(section_questions)

    return all_questions

# ✅ Build JSON Structure for Questions and Scoring
all_questions = {}
all_scoring = {}

for category, path in FOLDER_PATHS.items():
    if os.path.exists(path):
        print(f"\n🔎 Extracting questions from {category}...")
        extracted = extract_questions_from_folder(path)
        if extracted:
            all_questions[category] = extracted
            all_scoring[category] = SCORING_TEMPLATE.get(category, {})
        else:
            print(f"⚠️ No questions found in {category}")
    else:
        print(f"❌ Folder not found: {path}")

# ✅ Display Extracted Questions
for category, questions in all_questions.items():
    print(f"\n📌 {category} Questions:")
    for doc in questions:
        for section, content in doc.items():
            print(f"  🟢 {section}:")
            for i, question in enumerate(content["questions"], 1):
                print(f"    {i}. {question}")
                if content["options"]:
                    for opt_key, opt_value in content["options"][i - 1].items():
                        print(f"      {opt_key}. {opt_value}")

# ✅ Save Questions to JSON
if all_questions:
    with open('extracted_questions.json', 'w', encoding='utf-8') as f:
        json.dump(all_questions, f, indent=4)
else:
    print("\n⚠️ No questions extracted. Nothing to save.")

# ✅ Save Scoring to JSON
if all_scoring:
    with open('scoring_criteria.json', 'w', encoding='utf-8') as f:
        json.dump(all_scoring, f, indent=4)
else:
    print("\n⚠️ No scoring criteria extracted. Nothing to save.")

print("\n✅ Results saved to 'extracted_questions.json' and 'scoring_criteria.json'")
